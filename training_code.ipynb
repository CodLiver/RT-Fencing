{
 "cells": [
  {
   "cell_type": "code",
   "execution_count": 2,
   "metadata": {
    "colab": {
     "base_uri": "https://localhost:8080/",
     "height": 420
    },
    "colab_type": "code",
    "executionInfo": {
     "elapsed": 197754,
     "status": "ok",
     "timestamp": 1584274736888,
     "user": {
      "displayName": "Cem Ekin Sunal",
      "photoUrl": "",
      "userId": "09787078485788520811"
     },
     "user_tz": 0
    },
    "id": "UBJn4MIm2SkH",
    "outputId": "2fbe9b72-624c-4a3a-9b76-855ea21a305d"
   },
   "outputs": [],
   "source": [
    "PATHSAVE=\"D:/DISSERTATION/newBACKUP/labeling/\"\n",
    "# google drive specific pytorch instructions if you want to run on google collab gpu\n",
    "# !pip3 install http://download.pytorch.org/whl/cu80/torch-0.3.0.post4-cp36-cp36m-linux_x86_64.whl \n",
    "# !pip3 install torchvision"
   ]
  },
  {
   "cell_type": "code",
   "execution_count": 0,
   "metadata": {
    "colab": {},
    "colab_type": "code",
    "id": "T6X3D1Dfs57t"
   },
   "outputs": [],
   "source": [
    "from torch.autograd import Variable\n",
    "from torch.utils.data import Dataset,DataLoader\n",
    "from torchvision import transforms\n",
    "from PIL import Image\n",
    "import torch,numpy as np,torch.nn as nn,torch.nn.functional as F,torch.optim as optim,torchvision.models as models,torch.backends.cudnn as cudnn,torchvision.datasets as datasets,cv2,time,os,shutil,sys\n",
    "import torch"
   ]
  },
  {
   "cell_type": "code",
   "execution_count": 1,
   "metadata": {
    "colab": {
     "base_uri": "https://localhost:8080/",
     "height": 138
    },
    "colab_type": "code",
    "executionInfo": {
     "elapsed": 31663,
     "status": "ok",
     "timestamp": 1586724704965,
     "user": {
      "displayName": "Cem Ekin Sunal",
      "photoUrl": "",
      "userId": "09787078485788520811"
     },
     "user_tz": -60
    },
    "id": "GAWztmAoBqc7",
    "outputId": "0f9c2abc-6acc-408a-ceac-f59dedaf5aec"
   },
   "outputs": [],
   "source": [
    "# drive access\n",
    "from google.colab import files\n",
    "from google.colab import drive\n",
    "drive.mount('/content/drive')"
   ]
  },
  {
   "cell_type": "code",
   "execution_count": 3,
   "metadata": {
    "colab": {
     "base_uri": "https://localhost:8080/",
     "height": 34
    },
    "colab_type": "code",
    "executionInfo": {
     "elapsed": 15241,
     "status": "ok",
     "timestamp": 1586724709005,
     "user": {
      "displayName": "Cem Ekin Sunal",
      "photoUrl": "",
      "userId": "09787078485788520811"
     },
     "user_tz": -60
    },
    "id": "AMj1JUNVG5As",
    "outputId": "11c4821e-9163-4a51-d043-0a1c00fe21e0"
   },
   "outputs": [],
   "source": [
    "# switch color format: dataRGB,dataHSV,dataGray,dataEdge\n",
    "os.listdir('/My Drive/PublicationData/dataRGB/')\n",
    "# files.download('example.txt')"
   ]
  },
  {
   "cell_type": "code",
   "execution_count": 0,
   "metadata": {
    "colab": {},
    "colab_type": "code",
    "id": "Kin19MBq_sBK"
   },
   "outputs": [],
   "source": [
    "def validate(val_loader,trainYes):\n",
    "    correct = 0\n",
    "    total = 0\n",
    "    results=[]\n",
    "    with torch.no_grad():\n",
    "        for data in val_loader:\n",
    "            images, cpuLabels = data\n",
    "            \n",
    "            # can change if on cpu\n",
    "            images, labels=images.cuda(device), cpuLabels.cuda(device)\n",
    "\n",
    "            outputs = model(images)\n",
    "\n",
    "            _, predicted = torch.max(outputs.data, 1)\n",
    "            subRes=(predicted == labels).sum().item()\n",
    "\n",
    "            if trainYes: # for validation batch\n",
    "                print(subRes/50,end=\", \")\n",
    "            results.append(subRes/50)\n",
    "            total += labels.size(0) \n",
    "            correct += subRes\n",
    "\n",
    "    print('total: %d %%' % (\n",
    "        100 * correct / total))\n",
    "    return 100 * correct / total,results\n",
    "\n",
    "def test_set(test_loader):\n",
    "    correct = 0\n",
    "    total = 0\n",
    "    results=[]\n",
    "    with torch.no_grad():\n",
    "        for data in test_loader:\n",
    "            images, cpuLabels = data\n",
    "            if(torch.cuda.is_available()):\n",
    "                images, labels=images.cuda(device), cpuLabels.cuda(device)# IMPORTANT\n",
    "            outputs = model(images)\n",
    "            _, predicted = torch.max(outputs.data, 1)\n",
    "            subRes=(predicted == labels).sum().item()\n",
    "            \n",
    "            total += labels.size(0)\n",
    "            correct += subRes \n",
    "\n",
    "    res=100 * correct / total\n",
    "    return res"
   ]
  },
  {
   "cell_type": "code",
   "execution_count": 5,
   "metadata": {
    "colab": {
     "base_uri": "https://localhost:8080/",
     "height": 34
    },
    "colab_type": "code",
    "executionInfo": {
     "elapsed": 11435,
     "status": "ok",
     "timestamp": 1586724709009,
     "user": {
      "displayName": "Cem Ekin Sunal",
      "photoUrl": "",
      "userId": "09787078485788520811"
     },
     "user_tz": -60
    },
    "id": "l80-41U__w-q",
    "outputId": "4a8d8dd5-cfec-41b4-c45b-bcd758d229b2"
   },
   "outputs": [
    {
     "name": "stdout",
     "output_type": "stream",
     "text": [
      "started\n"
     ]
    }
   ],
   "source": [
    "print(\"started\")\n",
    "normalize = transforms.Normalize(mean=[0.485, 0.456, 0.406],\n",
    "                                std=[0.229, 0.224, 0.225])\n",
    "\n",
    "transformations=transforms.Compose([\n",
    "  transforms.RandomResizedCrop(224),\n",
    "  transforms.ToTensor(),\n",
    "  normalize,\n",
    "])\n",
    "transformations2=transforms.Compose([\n",
    "  transforms.RandomCrop(224),\n",
    "  transforms.ToTensor(),\n",
    "  normalize,\n",
    "])\n"
   ]
  },
  {
   "cell_type": "code",
   "execution_count": 0,
   "metadata": {
    "colab": {},
    "colab_type": "code",
    "id": "3YiEAN8rAMAb"
   },
   "outputs": [],
   "source": [
    "root_path = 'drive/My Drive/PublicationData/data' \n",
    "testtype=\"RGB\" # dataRGB,dataHSV,dataGray,dataEdge\n",
    "train_loader = torch.utils.data.DataLoader(\n",
    "  datasets.ImageFolder(root_path+testtype+'/train/', transformations),\n",
    "  batch_size=32, shuffle=True,\n",
    "  num_workers=5, pin_memory=True)\n",
    "\n",
    "# can uncomment while training.\n",
    "# val_loader = torch.utils.data.DataLoader(\n",
    "#     datasets.ImageFolder(root_path+testtype+'/val/', transformations2),\n",
    "#     batch_size=50, shuffle=False,#50 10,5   32-10\n",
    "#     num_workers=5, pin_memory=True)\n",
    "\n",
    "# comment while testing.\n",
    "test_loader = torch.utils.data.DataLoader(\n",
    "  datasets.ImageFolder(root_path+testtype+'/test/', transformations2),\n",
    "  batch_size=116, shuffle=False,\n",
    "  num_workers=5, pin_memory=True)\n",
    "\n",
    "device = torch.device(\"cuda\") #IMPORTANT\n",
    "learning_rate = 0.01\n",
    "\n",
    "criterion = nn.CrossEntropyLoss().cuda()"
   ]
  },
  {
   "cell_type": "code",
   "execution_count": 7,
   "metadata": {
    "colab": {
     "base_uri": "https://localhost:8080/",
     "height": 34
    },
    "colab_type": "code",
    "executionInfo": {
     "elapsed": 35255,
     "status": "ok",
     "timestamp": 1586724737155,
     "user": {
      "displayName": "Cem Ekin Sunal",
      "photoUrl": "",
      "userId": "09787078485788520811"
     },
     "user_tz": -60
    },
    "id": "bXYFEi2ZsjL1",
    "outputId": "1f83c3f5-841b-453c-92ca-f64a19fe9bb5"
   },
   "outputs": [
    {
     "name": "stdout",
     "output_type": "stream",
     "text": [
      "True\n"
     ]
    }
   ],
   "source": [
    "print(torch.cuda.is_available())"
   ]
  },
  {
   "cell_type": "code",
   "execution_count": 9,
   "metadata": {
    "colab": {
     "base_uri": "https://localhost:8080/",
     "height": 1000
    },
    "colab_type": "code",
    "executionInfo": {
     "elapsed": 5598311,
     "status": "ok",
     "timestamp": 1586731286005,
     "user": {
      "displayName": "Cem Ekin Sunal",
      "photoUrl": "",
      "userId": "09787078485788520811"
     },
     "user_tz": -60
    },
    "id": "4lRGu3V2AaoR",
    "outputId": "ab4cc74e-d6f5-4b16-8247-4a85ca887811"
   },
   "outputs": [
    {
     "name": "stdout",
     "output_type": "stream",
     "text": [
      "eeee 5\n",
      "epoch 0\n",
      "tr loss 1: 1.568\n",
      "training Acc: 31.31\n",
      "test Acc: 28.97\n",
      "epoch 1\n",
      "tr loss 2: 1.268\n",
      "training Acc: 45.46\n",
      "test Acc: 42.59\n",
      "epoch 2\n",
      "tr loss 3: 1.171\n",
      "training Acc: 41.0\n",
      "test Acc: 20.34\n",
      "epoch 3\n",
      "tr loss 4: 1.084\n",
      "training Acc: 54.78\n",
      "test Acc: 46.03\n",
      "epoch 4\n",
      "tr loss 5: 1.011\n",
      "training Acc: 56.07\n",
      "test Acc: 50.34\n",
      "epoch 5\n",
      "tr loss 6: 0.962\n",
      "training Acc: 60.04\n",
      "test Acc: 58.28\n",
      "epoch 6\n",
      "tr loss 7: 0.908\n",
      "training Acc: 62.7\n",
      "test Acc: 59.14\n",
      "epoch 7\n",
      "tr loss 8: 0.864\n",
      "training Acc: 62.35\n",
      "test Acc: 50.34\n",
      "epoch 8\n",
      "tr loss 9: 0.842\n",
      "training Acc: 67.7\n",
      "test Acc: 62.24\n",
      "epoch 9\n",
      "tr loss 10: 0.806\n",
      "training Acc: 68.36\n",
      "test Acc: 72.76\n",
      "epoch 10\n",
      "tr loss 11: 0.777\n",
      "training Acc: 63.44\n",
      "test Acc: 50.86\n",
      "epoch 11\n",
      "tr loss 12: 0.751\n",
      "training Acc: 65.37\n",
      "test Acc: 65.52\n",
      "epoch 12\n",
      "tr loss 13: 0.734\n",
      "training Acc: 68.03\n",
      "test Acc: 70.52\n",
      "epoch 13\n",
      "training Acc: 69.45\n",
      "test Acc: 76.21\n",
      "epoch 14\n",
      "tr loss 15: 0.704\n",
      "training Acc: 70.29\n",
      "test Acc: 64.14\n",
      "epoch 15\n",
      "tr loss 16: 0.691\n",
      "training Acc: 74.99\n",
      "test Acc: 75.52\n",
      "epoch 16\n",
      "tr loss 17: 0.657\n",
      "training Acc: 76.34\n",
      "test Acc: 74.14\n",
      "epoch 17\n",
      "tr loss 18: 0.642\n",
      "training Acc: 75.15\n",
      "test Acc: 66.9\n",
      "epoch 18\n",
      "tr loss 19: 0.625\n",
      "training Acc: 74.53\n",
      "test Acc: 78.79\n",
      "epoch 19\n",
      "tr loss 20: 0.620\n",
      "training Acc: 75.25\n",
      "test Acc: 79.31\n",
      "epoch 20\n",
      "tr loss 21: 0.613\n",
      "training Acc: 78.08\n",
      "test Acc: 76.72\n",
      "epoch 21\n",
      "tr loss 22: 0.591\n",
      "training Acc: 76.39\n",
      "test Acc: 73.1\n",
      "epoch 22\n",
      "tr loss 23: 0.584\n",
      "training Acc: 79.08\n",
      "test Acc: 75.86\n",
      "epoch 23\n",
      "tr loss 24: 0.570\n",
      "training Acc: 76.95\n",
      "test Acc: 73.62\n",
      "epoch 24\n",
      "tr loss 25: 0.560\n",
      "training Acc: 78.64\n",
      "test Acc: 71.38\n",
      "epoch 25\n",
      "tr loss 26: 0.542\n",
      "training Acc: 78.4\n",
      "test Acc: 73.79\n",
      "epoch 26\n",
      "tr loss 27: 0.540\n",
      "training Acc: 80.17\n",
      "test Acc: 73.62\n",
      "epoch 27\n",
      "tr loss 28: 0.525\n",
      "training Acc: 79.15\n",
      "test Acc: 79.31\n",
      "epoch 28\n",
      "tr loss 29: 0.509\n",
      "training Acc: 78.86\n",
      "test Acc: 59.31\n",
      "epoch 29\n",
      "tr loss 30: 0.508\n",
      "training Acc: 81.43\n",
      "test Acc: 79.14\n",
      "epoch 30\n",
      "tr loss 31: 0.492\n",
      "training Acc: 79.51\n",
      "test Acc: 77.93\n",
      "epoch 31\n",
      "tr loss 32: 0.486\n",
      "training Acc: 81.38\n",
      "test Acc: 65.52\n",
      "epoch 32\n",
      "tr loss 33: 0.493\n",
      "training Acc: 82.06\n",
      "test Acc: 71.72\n",
      "epoch 33\n",
      "tr loss 34: 0.472\n",
      "training Acc: 82.75\n",
      "test Acc: 72.93\n",
      "epoch 34\n",
      "tr loss 35: 0.468\n",
      "training Acc: 82.89\n",
      "test Acc: 70.69\n",
      "epoch 35\n",
      "tr loss 36: 0.455\n",
      "training Acc: 81.69\n",
      "test Acc: 63.79\n",
      "epoch 36\n",
      "tr loss 37: 0.436\n",
      "training Acc: 82.15\n",
      "test Acc: 79.31\n",
      "epoch 37\n",
      "tr loss 38: 0.452\n",
      "training Acc: 84.24\n",
      "test Acc: 75.69\n",
      "epoch 38\n",
      "tr loss 39: 0.441\n",
      "training Acc: 84.4\n",
      "test Acc: 74.14\n",
      "epoch 39\n",
      "tr loss 40: 0.442\n",
      "training Acc: 83.97\n",
      "test Acc: 81.03\n",
      "epoch 40\n",
      "tr loss 41: 0.418\n",
      "training Acc: 83.23\n",
      "test Acc: 70.86\n",
      "epoch 41\n",
      "tr loss 42: 0.423\n",
      "training Acc: 84.15\n",
      "test Acc: 72.59\n",
      "epoch 42\n",
      "tr loss 43: 0.416\n",
      "training Acc: 84.22\n",
      "test Acc: 72.59\n",
      "epoch 43\n",
      "tr loss 44: 0.400\n",
      "training Acc: 84.48\n",
      "test Acc: 78.97\n",
      "epoch 44\n",
      "tr loss 45: 0.394\n",
      "training Acc: 86.33\n",
      "test Acc: 77.41\n",
      "epoch 45\n",
      "tr loss 46: 0.398\n",
      "training Acc: 86.51\n",
      "test Acc: 75.0\n",
      "epoch 46\n",
      "tr loss 47: 0.392\n",
      "training Acc: 85.66\n",
      "test Acc: 71.38\n",
      "epoch 47\n",
      "tr loss 48: 0.401\n",
      "training Acc: 85.87\n",
      "test Acc: 77.93\n",
      "epoch 48\n",
      "tr loss 49: 0.366\n",
      "training Acc: 86.38\n",
      "test Acc: 77.24\n",
      "epoch 49\n",
      "tr loss 50: 0.366\n",
      "training Acc: 85.53\n",
      "test Acc: 72.59\n"
     ]
    }
   ],
   "source": [
    "for trial in range(10):# epoch\n",
    "    # model=models.resnet18(pretrained=True)\n",
    "    model=models.resnet34(pretrained=True)\n",
    "    #   model=torch.load(\"PATH2model/model.m\")\n",
    "\n",
    "    print(\"trial\",trial)\n",
    "    if(torch.cuda.is_available()):\n",
    "        model = model.cuda()\n",
    "    optimizer = torch.optim.Adam(model.parameters(), lr=learning_rate)\n",
    "    for epoch in range(50):\n",
    "        print(\"epoch\",epoch)\n",
    "        model.train()\n",
    "        running_loss = 0.0\n",
    "\n",
    "        for i, data in enumerate(train_loader, 0):\n",
    "\n",
    "            # get the inputs\n",
    "            inputs, labels = data\n",
    "            if(torch.cuda.is_available()):\n",
    "            inputs, labels=inputs.cuda(device), labels.cuda(device)\n",
    "\n",
    "            # zero the parameter gradients\n",
    "            optimizer.zero_grad()\n",
    "\n",
    "            # forward + backward + optimize\n",
    "            outputs = model(inputs)\n",
    "            loss = criterion(outputs,labels)\n",
    "\n",
    "            loss.backward()\n",
    "            optimizer.step()\n",
    "            running_loss += loss.item()\n",
    "\n",
    "        print('tr loss %d: %.3f' %(epoch + 1, running_loss / len(train_loader)))\n",
    "        running_loss = 0.0\n",
    "\n",
    "\n",
    "        model.eval()\n",
    "        \n",
    "        #training acc:\n",
    "        print(\"training Acc:\",round(test_set(train_loader),2))\n",
    "        \n",
    "        # validation\n",
    "        # validate(train_loader,False)\n",
    "        # print(\"validating:\",end=\" \")\n",
    "        \n",
    "        # testing\n",
    "        testRes=test_set(test_loader)\n",
    "        print(\"test Acc:\",round(testRes,2))\n",
    "        \n",
    "        # model save\n",
    "        torch.save(model.state_dict(), root_path+testtype+\"/PublicationModel/\"+trial+\"state_ResNet34_True_\"+testtype+\"_t\"+str(trial)+\"_50_001_\"+str(epoch)+\"_\"+str(testRes)+\"p.m\")\n",
    "  "
   ]
  }
 ],
 "metadata": {
  "accelerator": "GPU",
  "colab": {
   "authorship_tag": "ABX9TyNEaAqFbKgS6LtRECmriPvB",
   "collapsed_sections": [],
   "name": "pubmodel.ipynb",
   "provenance": []
  },
  "kernelspec": {
   "display_name": "Python 3",
   "language": "python",
   "name": "python3"
  },
  "language_info": {
   "codemirror_mode": {
    "name": "ipython",
    "version": 3
   },
   "file_extension": ".py",
   "mimetype": "text/x-python",
   "name": "python",
   "nbconvert_exporter": "python",
   "pygments_lexer": "ipython3",
   "version": "3.6.9"
  }
 },
 "nbformat": 4,
 "nbformat_minor": 1
}
